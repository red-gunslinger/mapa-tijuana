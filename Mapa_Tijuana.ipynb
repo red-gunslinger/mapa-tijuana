{
  "nbformat": 4,
  "nbformat_minor": 0,
  "metadata": {
    "colab": {
      "provenance": []
    },
    "kernelspec": {
      "name": "python3",
      "display_name": "Python 3"
    },
    "language_info": {
      "name": "python"
    }
  },
  "cells": [
    {
      "cell_type": "code",
      "execution_count": null,
      "metadata": {
        "id": "x4tGCyXGeKZJ",
        "colab": {
          "base_uri": "https://localhost:8080/"
        },
        "outputId": "dc27549e-1ebf-4f23-91b5-4003dd917a68"
      },
      "outputs": [
        {
          "output_type": "stream",
          "name": "stdout",
          "text": [
            "Collecting keplergl\n",
            "  Downloading keplergl-0.3.7.tar.gz (18.4 MB)\n",
            "\u001b[2K     \u001b[90m\u2501\u2501\u2501\u2501\u2501\u2501\u2501\u2501\u2501\u2501\u2501\u2501\u2501\u2501\u2501\u2501\u2501\u2501\u2501\u2501\u2501\u2501\u2501\u2501\u2501\u2501\u2501\u2501\u2501\u2501\u2501\u2501\u2501\u2501\u2501\u2501\u2501\u2501\u2501\u2501\u001b[0m \u001b[32m18.4/18.4 MB\u001b[0m \u001b[31m22.6 MB/s\u001b[0m eta \u001b[36m0:00:00\u001b[0m\n",
            "\u001b[?25h  Installing build dependencies ... \u001b[?25l\u001b[?25hdone\n",
            "  Getting requirements to build wheel ... \u001b[?25l\u001b[?25hdone\n",
            "  Preparing metadata (pyproject.toml) ... \u001b[?25l\u001b[?25hdone\n",
            "Collecting ipywidgets>=8.1.5 (from keplergl)\n",
            "  Using cached ipywidgets-8.1.5-py3-none-any.whl.metadata (2.3 kB)\n",
            "Requirement already satisfied: traittypes>=0.2.1 in /usr/local/lib/python3.11/dist-packages (from keplergl) (0.2.1)\n",
            "Requirement already satisfied: traitlets>=4.3.2 in /usr/local/lib/python3.11/dist-packages (from keplergl) (5.7.1)\n",
            "Requirement already satisfied: geopandas>=0.14.3 in /usr/local/lib/python3.11/dist-packages (from keplergl) (1.0.1)\n",
            "Requirement already satisfied: Shapely>=1.6.4.post2 in /usr/local/lib/python3.11/dist-packages (from keplergl) (2.1.0)\n",
            "Collecting jupyter_packaging>=0.12.3 (from keplergl)\n",
            "  Using cached jupyter_packaging-0.12.3-py3-none-any.whl.metadata (7.7 kB)\n",
            "Collecting jupyter>=1.0.0 (from keplergl)\n",
            "  Downloading jupyter-1.1.1-py2.py3-none-any.whl.metadata (2.0 kB)\n",
            "Collecting jupyterlab>=4.1.6 (from keplergl)\n",
            "  Downloading jupyterlab-4.4.0-py3-none-any.whl.metadata (16 kB)\n",
            "Requirement already satisfied: notebook>=6.0.1 in /usr/local/lib/python3.11/dist-packages (from keplergl) (6.5.7)\n",
            "Requirement already satisfied: pyarrow>=16.0.0 in /usr/local/lib/python3.11/dist-packages (from keplergl) (18.1.0)\n",
            "Collecting geoarrow-pyarrow>=0.1.2 (from keplergl)\n",
            "  Downloading geoarrow_pyarrow-0.1.2-py3-none-any.whl.metadata (613 bytes)\n",
            "Collecting geoarrow-pandas>=0.1.1 (from keplergl)\n",
            "  Downloading geoarrow_pandas-0.1.1-py3-none-any.whl.metadata (493 bytes)\n",
            "Requirement already satisfied: pandas in /usr/local/lib/python3.11/dist-packages (from geoarrow-pandas>=0.1.1->keplergl) (2.2.2)\n",
            "Collecting geoarrow-c (from geoarrow-pyarrow>=0.1.2->keplergl)\n",
            "  Downloading geoarrow_c-0.1.2-cp311-cp311-manylinux_2_17_x86_64.manylinux2014_x86_64.whl.metadata (400 bytes)\n",
            "Collecting pyarrow-hotfix (from geoarrow-pyarrow>=0.1.2->keplergl)\n",
            "  Downloading pyarrow_hotfix-0.6-py3-none-any.whl.metadata (3.6 kB)\n",
            "Requirement already satisfied: numpy>=1.22 in /usr/local/lib/python3.11/dist-packages (from geopandas>=0.14.3->keplergl) (2.0.2)\n",
            "Requirement already satisfied: pyogrio>=0.7.2 in /usr/local/lib/python3.11/dist-packages (from geopandas>=0.14.3->keplergl) (0.10.0)\n",
            "Requirement already satisfied: packaging in /usr/local/lib/python3.11/dist-packages (from geopandas>=0.14.3->keplergl) (24.2)\n",
            "Requirement already satisfied: pyproj>=3.3.0 in /usr/local/lib/python3.11/dist-packages (from geopandas>=0.14.3->keplergl) (3.7.1)\n",
            "Collecting comm>=0.1.3 (from ipywidgets>=8.1.5->keplergl)\n",
            "  Using cached comm-0.2.2-py3-none-any.whl.metadata (3.7 kB)\n",
            "Requirement already satisfied: ipython>=6.1.0 in /usr/local/lib/python3.11/dist-packages (from ipywidgets>=8.1.5->keplergl) (7.34.0)\n",
            "Collecting widgetsnbextension~=4.0.12 (from ipywidgets>=8.1.5->keplergl)\n",
            "  Using cached widgetsnbextension-4.0.13-py3-none-any.whl.metadata (1.6 kB)\n",
            "Requirement already satisfied: jupyterlab-widgets~=3.0.12 in /usr/local/lib/python3.11/dist-packages (from ipywidgets>=8.1.5->keplergl) (3.0.13)\n",
            "Requirement already satisfied: jupyter-console in /usr/local/lib/python3.11/dist-packages (from jupyter>=1.0.0->keplergl) (6.1.0)\n",
            "Requirement already satisfied: nbconvert in /usr/local/lib/python3.11/dist-packages (from jupyter>=1.0.0->keplergl) (7.16.6)\n",
            "Requirement already satisfied: ipykernel in /usr/local/lib/python3.11/dist-packages (from jupyter>=1.0.0->keplergl) (6.17.1)\n",
            "Collecting deprecation (from jupyter_packaging>=0.12.3->keplergl)\n",
            "  Using cached deprecation-2.1.0-py2.py3-none-any.whl.metadata (4.6 kB)\n",
            "Requirement already satisfied: setuptools>=60.2.0 in /usr/local/lib/python3.11/dist-packages (from jupyter_packaging>=0.12.3->keplergl) (75.2.0)\n",
            "Collecting tomlkit (from jupyter_packaging>=0.12.3->keplergl)\n",
            "  Using cached tomlkit-0.13.2-py3-none-any.whl.metadata (2.7 kB)\n",
            "Requirement already satisfied: wheel in /usr/local/lib/python3.11/dist-packages (from jupyter_packaging>=0.12.3->keplergl) (0.45.1)\n",
            "Collecting async-lru>=1.0.0 (from jupyterlab>=4.1.6->keplergl)\n",
            "  Using cached async_lru-2.0.5-py3-none-any.whl.metadata (4.5 kB)\n",
            "Requirement already satisfied: httpx>=0.25.0 in /usr/local/lib/python3.11/dist-packages (from jupyterlab>=4.1.6->keplergl) (0.28.1)\n",
            "Requirement already satisfied: jinja2>=3.0.3 in /usr/local/lib/python3.11/dist-packages (from jupyterlab>=4.1.6->keplergl) (3.1.6)\n",
            "Requirement already satisfied: jupyter-core in /usr/local/lib/python3.11/dist-packages (from jupyterlab>=4.1.6->keplergl) (5.7.2)\n",
            "Collecting jupyter-lsp>=2.0.0 (from jupyterlab>=4.1.6->keplergl)\n",
            "  Using cached jupyter_lsp-2.2.5-py3-none-any.whl.metadata (1.8 kB)\n",
            "Collecting jupyter-server<3,>=2.4.0 (from jupyterlab>=4.1.6->keplergl)\n",
            "  Using cached jupyter_server-2.15.0-py3-none-any.whl.metadata (8.4 kB)\n",
            "Collecting jupyterlab-server<3,>=2.27.1 (from jupyterlab>=4.1.6->keplergl)\n",
            "  Using cached jupyterlab_server-2.27.3-py3-none-any.whl.metadata (5.9 kB)\n",
            "Requirement already satisfied: notebook-shim>=0.2 in /usr/local/lib/python3.11/dist-packages (from jupyterlab>=4.1.6->keplergl) (0.2.4)\n",
            "Requirement already satisfied: tornado>=6.2.0 in /usr/local/lib/python3.11/dist-packages (from jupyterlab>=4.1.6->keplergl) (6.4.2)\n",
            "Requirement already satisfied: pyzmq>=17 in /usr/local/lib/python3.11/dist-packages (from notebook>=6.0.1->keplergl) (24.0.1)\n",
            "Requirement already satisfied: argon2-cffi in /usr/local/lib/python3.11/dist-packages (from notebook>=6.0.1->keplergl) (23.1.0)\n",
            "Requirement already satisfied: jupyter-client<8,>=5.3.4 in /usr/local/lib/python3.11/dist-packages (from notebook>=6.0.1->keplergl) (6.1.12)\n",
            "Requirement already satisfied: ipython-genutils in /usr/local/lib/python3.11/dist-packages (from notebook>=6.0.1->keplergl) (0.2.0)\n",
            "Requirement already satisfied: nbformat in /usr/local/lib/python3.11/dist-packages (from notebook>=6.0.1->keplergl) (5.10.4)\n",
            "Requirement already satisfied: nest-asyncio>=1.5 in /usr/local/lib/python3.11/dist-packages (from notebook>=6.0.1->keplergl) (1.6.0)\n",
            "Requirement already satisfied: Send2Trash>=1.8.0 in /usr/local/lib/python3.11/dist-packages (from notebook>=6.0.1->keplergl) (1.8.3)\n",
            "Requirement already satisfied: terminado>=0.8.3 in /usr/local/lib/python3.11/dist-packages (from notebook>=6.0.1->keplergl) (0.18.1)\n",
            "Requirement already satisfied: prometheus-client in /usr/local/lib/python3.11/dist-packages (from notebook>=6.0.1->keplergl) (0.21.1)\n",
            "Requirement already satisfied: nbclassic>=0.4.7 in /usr/local/lib/python3.11/dist-packages (from notebook>=6.0.1->keplergl) (1.2.0)\n",
            "Requirement already satisfied: anyio in /usr/local/lib/python3.11/dist-packages (from httpx>=0.25.0->jupyterlab>=4.1.6->keplergl) (4.9.0)\n",
            "Requirement already satisfied: certifi in /usr/local/lib/python3.11/dist-packages (from httpx>=0.25.0->jupyterlab>=4.1.6->keplergl) (2025.1.31)\n",
            "Requirement already satisfied: httpcore==1.* in /usr/local/lib/python3.11/dist-packages (from httpx>=0.25.0->jupyterlab>=4.1.6->keplergl) (1.0.7)\n",
            "Requirement already satisfied: idna in /usr/local/lib/python3.11/dist-packages (from httpx>=0.25.0->jupyterlab>=4.1.6->keplergl) (3.10)\n",
            "Requirement already satisfied: h11<0.15,>=0.13 in /usr/local/lib/python3.11/dist-packages (from httpcore==1.*->httpx>=0.25.0->jupyterlab>=4.1.6->keplergl) (0.14.0)\n",
            "Requirement already satisfied: debugpy>=1.0 in /usr/local/lib/python3.11/dist-packages (from ipykernel->jupyter>=1.0.0->keplergl) (1.8.0)\n",
            "Requirement already satisfied: matplotlib-inline>=0.1 in /usr/local/lib/python3.11/dist-packages (from ipykernel->jupyter>=1.0.0->keplergl) (0.1.7)\n",
            "Requirement already satisfied: psutil in /usr/local/lib/python3.11/dist-packages (from ipykernel->jupyter>=1.0.0->keplergl) (5.9.5)\n",
            "Collecting jedi>=0.16 (from ipython>=6.1.0->ipywidgets>=8.1.5->keplergl)\n",
            "  Using cached jedi-0.19.2-py2.py3-none-any.whl.metadata (22 kB)\n",
            "Requirement already satisfied: decorator in /usr/local/lib/python3.11/dist-packages (from ipython>=6.1.0->ipywidgets>=8.1.5->keplergl) (4.4.2)\n",
            "Requirement already satisfied: pickleshare in /usr/local/lib/python3.11/dist-packages (from ipython>=6.1.0->ipywidgets>=8.1.5->keplergl) (0.7.5)\n",
            "Requirement already satisfied: prompt-toolkit!=3.0.0,!=3.0.1,<3.1.0,>=2.0.0 in /usr/local/lib/python3.11/dist-packages (from ipython>=6.1.0->ipywidgets>=8.1.5->keplergl) (3.0.50)\n",
            "Requirement already satisfied: pygments in /usr/local/lib/python3.11/dist-packages (from ipython>=6.1.0->ipywidgets>=8.1.5->keplergl) (2.18.0)\n",
            "Requirement already satisfied: backcall in /usr/local/lib/python3.11/dist-packages (from ipython>=6.1.0->ipywidgets>=8.1.5->keplergl) (0.2.0)\n",
            "Requirement already satisfied: pexpect>4.3 in /usr/local/lib/python3.11/dist-packages (from ipython>=6.1.0->ipywidgets>=8.1.5->keplergl) (4.9.0)\n",
            "Requirement already satisfied: MarkupSafe>=2.0 in /usr/local/lib/python3.11/dist-packages (from jinja2>=3.0.3->jupyterlab>=4.1.6->keplergl) (3.0.2)\n",
            "Requirement already satisfied: python-dateutil>=2.1 in /usr/local/lib/python3.11/dist-packages (from jupyter-client<8,>=5.3.4->notebook>=6.0.1->keplergl) (2.8.2)\n",
            "Requirement already satisfied: platformdirs>=2.5 in /usr/local/lib/python3.11/dist-packages (from jupyter-core->jupyterlab>=4.1.6->keplergl) (4.3.7)\n",
            "Collecting jupyter-client<8,>=5.3.4 (from notebook>=6.0.1->keplergl)\n",
            "  Downloading jupyter_client-7.4.9-py3-none-any.whl.metadata (8.5 kB)\n",
            "Collecting jupyter-events>=0.11.0 (from jupyter-server<3,>=2.4.0->jupyterlab>=4.1.6->keplergl)\n",
            "  Using cached jupyter_events-0.12.0-py3-none-any.whl.metadata (5.8 kB)\n",
            "Collecting jupyter-server-terminals>=0.4.4 (from jupyter-server<3,>=2.4.0->jupyterlab>=4.1.6->keplergl)\n",
            "  Using cached jupyter_server_terminals-0.5.3-py3-none-any.whl.metadata (5.6 kB)\n",
            "Collecting overrides>=5.0 (from jupyter-server<3,>=2.4.0->jupyterlab>=4.1.6->keplergl)\n",
            "  Using cached overrides-7.7.0-py3-none-any.whl.metadata (5.8 kB)\n",
            "Requirement already satisfied: websocket-client>=1.7 in /usr/local/lib/python3.11/dist-packages (from jupyter-server<3,>=2.4.0->jupyterlab>=4.1.6->keplergl) (1.8.0)\n",
            "Requirement already satisfied: argon2-cffi-bindings in /usr/local/lib/python3.11/dist-packages (from argon2-cffi->notebook>=6.0.1->keplergl) (21.2.0)\n",
            "Requirement already satisfied: entrypoints in /usr/local/lib/python3.11/dist-packages (from jupyter-client<8,>=5.3.4->notebook>=6.0.1->keplergl) (0.4)\n",
            "Requirement already satisfied: babel>=2.10 in /usr/local/lib/python3.11/dist-packages (from jupyterlab-server<3,>=2.27.1->jupyterlab>=4.1.6->keplergl) (2.17.0)\n",
            "Collecting json5>=0.9.0 (from jupyterlab-server<3,>=2.27.1->jupyterlab>=4.1.6->keplergl)\n",
            "  Using cached json5-0.12.0-py3-none-any.whl.metadata (36 kB)\n",
            "Requirement already satisfied: jsonschema>=4.18.0 in /usr/local/lib/python3.11/dist-packages (from jupyterlab-server<3,>=2.27.1->jupyterlab>=4.1.6->keplergl) (4.23.0)\n",
            "Requirement already satisfied: requests>=2.31 in /usr/local/lib/python3.11/dist-packages (from jupyterlab-server<3,>=2.27.1->jupyterlab>=4.1.6->keplergl) (2.32.3)\n",
            "Requirement already satisfied: beautifulsoup4 in /usr/local/lib/python3.11/dist-packages (from nbconvert->jupyter>=1.0.0->keplergl) (4.13.3)\n",
            "Requirement already satisfied: bleach!=5.0.0 in /usr/local/lib/python3.11/dist-packages (from bleach[css]!=5.0.0->nbconvert->jupyter>=1.0.0->keplergl) (6.2.0)\n",
            "Requirement already satisfied: defusedxml in /usr/local/lib/python3.11/dist-packages (from nbconvert->jupyter>=1.0.0->keplergl) (0.7.1)\n",
            "Requirement already satisfied: jupyterlab-pygments in /usr/local/lib/python3.11/dist-packages (from nbconvert->jupyter>=1.0.0->keplergl) (0.3.0)\n",
            "Requirement already satisfied: mistune<4,>=2.0.3 in /usr/local/lib/python3.11/dist-packages (from nbconvert->jupyter>=1.0.0->keplergl) (3.1.3)\n",
            "Requirement already satisfied: nbclient>=0.5.0 in /usr/local/lib/python3.11/dist-packages (from nbconvert->jupyter>=1.0.0->keplergl) (0.10.2)\n",
            "Requirement already satisfied: pandocfilters>=1.4.1 in /usr/local/lib/python3.11/dist-packages (from nbconvert->jupyter>=1.0.0->keplergl) (1.5.1)\n",
            "Requirement already satisfied: fastjsonschema>=2.15 in /usr/local/lib/python3.11/dist-packages (from nbformat->notebook>=6.0.1->keplergl) (2.21.1)\n",
            "Requirement already satisfied: pytz>=2020.1 in /usr/local/lib/python3.11/dist-packages (from pandas->geoarrow-pandas>=0.1.1->keplergl) (2025.2)\n",
            "Requirement already satisfied: tzdata>=2022.7 in /usr/local/lib/python3.11/dist-packages (from pandas->geoarrow-pandas>=0.1.1->keplergl) (2025.2)\n",
            "Requirement already satisfied: ptyprocess in /usr/local/lib/python3.11/dist-packages (from terminado>=0.8.3->notebook>=6.0.1->keplergl) (0.7.0)\n",
            "Requirement already satisfied: sniffio>=1.1 in /usr/local/lib/python3.11/dist-packages (from anyio->httpx>=0.25.0->jupyterlab>=4.1.6->keplergl) (1.3.1)\n",
            "Requirement already satisfied: typing_extensions>=4.5 in /usr/local/lib/python3.11/dist-packages (from anyio->httpx>=0.25.0->jupyterlab>=4.1.6->keplergl) (4.13.1)\n",
            "Requirement already satisfied: webencodings in /usr/local/lib/python3.11/dist-packages (from bleach!=5.0.0->bleach[css]!=5.0.0->nbconvert->jupyter>=1.0.0->keplergl) (0.5.1)\n",
            "Requirement already satisfied: tinycss2<1.5,>=1.1.0 in /usr/local/lib/python3.11/dist-packages (from bleach[css]!=5.0.0->nbconvert->jupyter>=1.0.0->keplergl) (1.4.0)\n",
            "Requirement already satisfied: parso<0.9.0,>=0.8.4 in /usr/local/lib/python3.11/dist-packages (from jedi>=0.16->ipython>=6.1.0->ipywidgets>=8.1.5->keplergl) (0.8.4)\n",
            "Requirement already satisfied: attrs>=22.2.0 in /usr/local/lib/python3.11/dist-packages (from jsonschema>=4.18.0->jupyterlab-server<3,>=2.27.1->jupyterlab>=4.1.6->keplergl) (25.3.0)\n",
            "Requirement already satisfied: jsonschema-specifications>=2023.03.6 in /usr/local/lib/python3.11/dist-packages (from jsonschema>=4.18.0->jupyterlab-server<3,>=2.27.1->jupyterlab>=4.1.6->keplergl) (2024.10.1)\n",
            "Requirement already satisfied: referencing>=0.28.4 in /usr/local/lib/python3.11/dist-packages (from jsonschema>=4.18.0->jupyterlab-server<3,>=2.27.1->jupyterlab>=4.1.6->keplergl) (0.36.2)\n",
            "Requirement already satisfied: rpds-py>=0.7.1 in /usr/local/lib/python3.11/dist-packages (from jsonschema>=4.18.0->jupyterlab-server<3,>=2.27.1->jupyterlab>=4.1.6->keplergl) (0.24.0)\n",
            "Collecting python-json-logger>=2.0.4 (from jupyter-events>=0.11.0->jupyter-server<3,>=2.4.0->jupyterlab>=4.1.6->keplergl)\n",
            "  Using cached python_json_logger-3.3.0-py3-none-any.whl.metadata (4.0 kB)\n",
            "Requirement already satisfied: pyyaml>=5.3 in /usr/local/lib/python3.11/dist-packages (from jupyter-events>=0.11.0->jupyter-server<3,>=2.4.0->jupyterlab>=4.1.6->keplergl) (6.0.2)\n",
            "Collecting rfc3339-validator (from jupyter-events>=0.11.0->jupyter-server<3,>=2.4.0->jupyterlab>=4.1.6->keplergl)\n",
            "  Using cached rfc3339_validator-0.1.4-py2.py3-none-any.whl.metadata (1.5 kB)\n",
            "Collecting rfc3986-validator>=0.1.1 (from jupyter-events>=0.11.0->jupyter-server<3,>=2.4.0->jupyterlab>=4.1.6->keplergl)\n",
            "  Using cached rfc3986_validator-0.1.1-py2.py3-none-any.whl.metadata (1.7 kB)\n",
            "Requirement already satisfied: wcwidth in /usr/local/lib/python3.11/dist-packages (from prompt-toolkit!=3.0.0,!=3.0.1,<3.1.0,>=2.0.0->ipython>=6.1.0->ipywidgets>=8.1.5->keplergl) (0.2.13)\n",
            "Requirement already satisfied: six>=1.5 in /usr/local/lib/python3.11/dist-packages (from python-dateutil>=2.1->jupyter-client<8,>=5.3.4->notebook>=6.0.1->keplergl) (1.17.0)\n",
            "Requirement already satisfied: charset-normalizer<4,>=2 in /usr/local/lib/python3.11/dist-packages (from requests>=2.31->jupyterlab-server<3,>=2.27.1->jupyterlab>=4.1.6->keplergl) (3.4.1)\n",
            "Requirement already satisfied: urllib3<3,>=1.21.1 in /usr/local/lib/python3.11/dist-packages (from requests>=2.31->jupyterlab-server<3,>=2.27.1->jupyterlab>=4.1.6->keplergl) (2.3.0)\n",
            "Requirement already satisfied: cffi>=1.0.1 in /usr/local/lib/python3.11/dist-packages (from argon2-cffi-bindings->argon2-cffi->notebook>=6.0.1->keplergl) (1.17.1)\n",
            "Requirement already satisfied: soupsieve>1.2 in /usr/local/lib/python3.11/dist-packages (from beautifulsoup4->nbconvert->jupyter>=1.0.0->keplergl) (2.6)\n",
            "Requirement already satisfied: pycparser in /usr/local/lib/python3.11/dist-packages (from cffi>=1.0.1->argon2-cffi-bindings->argon2-cffi->notebook>=6.0.1->keplergl) (2.22)\n",
            "Collecting fqdn (from jsonschema[format-nongpl]>=4.18.0->jupyter-events>=0.11.0->jupyter-server<3,>=2.4.0->jupyterlab>=4.1.6->keplergl)\n",
            "  Using cached fqdn-1.5.1-py3-none-any.whl.metadata (1.4 kB)\n",
            "Collecting isoduration (from jsonschema[format-nongpl]>=4.18.0->jupyter-events>=0.11.0->jupyter-server<3,>=2.4.0->jupyterlab>=4.1.6->keplergl)\n",
            "  Using cached isoduration-20.11.0-py3-none-any.whl.metadata (5.7 kB)\n",
            "Requirement already satisfied: jsonpointer>1.13 in /usr/local/lib/python3.11/dist-packages (from jsonschema[format-nongpl]>=4.18.0->jupyter-events>=0.11.0->jupyter-server<3,>=2.4.0->jupyterlab>=4.1.6->keplergl) (3.0.0)\n",
            "Collecting uri-template (from jsonschema[format-nongpl]>=4.18.0->jupyter-events>=0.11.0->jupyter-server<3,>=2.4.0->jupyterlab>=4.1.6->keplergl)\n",
            "  Using cached uri_template-1.3.0-py3-none-any.whl.metadata (8.8 kB)\n",
            "Requirement already satisfied: webcolors>=24.6.0 in /usr/local/lib/python3.11/dist-packages (from jsonschema[format-nongpl]>=4.18.0->jupyter-events>=0.11.0->jupyter-server<3,>=2.4.0->jupyterlab>=4.1.6->keplergl) (24.11.1)\n",
            "Collecting arrow>=0.15.0 (from isoduration->jsonschema[format-nongpl]>=4.18.0->jupyter-events>=0.11.0->jupyter-server<3,>=2.4.0->jupyterlab>=4.1.6->keplergl)\n",
            "  Using cached arrow-1.3.0-py3-none-any.whl.metadata (7.5 kB)\n",
            "Collecting types-python-dateutil>=2.8.10 (from arrow>=0.15.0->isoduration->jsonschema[format-nongpl]>=4.18.0->jupyter-events>=0.11.0->jupyter-server<3,>=2.4.0->jupyterlab>=4.1.6->keplergl)\n",
            "  Using cached types_python_dateutil-2.9.0.20241206-py3-none-any.whl.metadata (2.1 kB)\n",
            "Downloading geoarrow_pandas-0.1.1-py3-none-any.whl (6.2 kB)\n",
            "Downloading geoarrow_pyarrow-0.1.2-py3-none-any.whl (26 kB)\n",
            "Using cached ipywidgets-8.1.5-py3-none-any.whl (139 kB)\n",
            "Downloading jupyter-1.1.1-py2.py3-none-any.whl (2.7 kB)\n",
            "Using cached jupyter_packaging-0.12.3-py3-none-any.whl (15 kB)\n",
            "Downloading jupyterlab-4.4.0-py3-none-any.whl (12.3 MB)\n",
            "\u001b[2K   \u001b[90m\u2501\u2501\u2501\u2501\u2501\u2501\u2501\u2501\u2501\u2501\u2501\u2501\u2501\u2501\u2501\u2501\u2501\u2501\u2501\u2501\u2501\u2501\u2501\u2501\u2501\u2501\u2501\u2501\u2501\u2501\u2501\u2501\u2501\u2501\u2501\u2501\u2501\u2501\u2501\u2501\u001b[0m \u001b[32m12.3/12.3 MB\u001b[0m \u001b[31m64.0 MB/s\u001b[0m eta \u001b[36m0:00:00\u001b[0m\n",
            "\u001b[?25hUsing cached async_lru-2.0.5-py3-none-any.whl (6.1 kB)\n",
            "Using cached comm-0.2.2-py3-none-any.whl (7.2 kB)\n",
            "Using cached jupyter_lsp-2.2.5-py3-none-any.whl (69 kB)\n",
            "Using cached jupyter_server-2.15.0-py3-none-any.whl (385 kB)\n",
            "Downloading jupyter_client-7.4.9-py3-none-any.whl (133 kB)\n",
            "\u001b[2K   \u001b[90m\u2501\u2501\u2501\u2501\u2501\u2501\u2501\u2501\u2501\u2501\u2501\u2501\u2501\u2501\u2501\u2501\u2501\u2501\u2501\u2501\u2501\u2501\u2501\u2501\u2501\u2501\u2501\u2501\u2501\u2501\u2501\u2501\u2501\u2501\u2501\u2501\u2501\u2501\u2501\u2501\u001b[0m \u001b[32m133.5/133.5 kB\u001b[0m \u001b[31m9.0 MB/s\u001b[0m eta \u001b[36m0:00:00\u001b[0m\n",
            "\u001b[?25hUsing cached jupyterlab_server-2.27.3-py3-none-any.whl (59 kB)\n",
            "Using cached widgetsnbextension-4.0.13-py3-none-any.whl (2.3 MB)\n",
            "Using cached deprecation-2.1.0-py2.py3-none-any.whl (11 kB)\n",
            "Downloading geoarrow_c-0.1.2-cp311-cp311-manylinux_2_17_x86_64.manylinux2014_x86_64.whl (1.9 MB)\n",
            "\u001b[2K   \u001b[90m\u2501\u2501\u2501\u2501\u2501\u2501\u2501\u2501\u2501\u2501\u2501\u2501\u2501\u2501\u2501\u2501\u2501\u2501\u2501\u2501\u2501\u2501\u2501\u2501\u2501\u2501\u2501\u2501\u2501\u2501\u2501\u2501\u2501\u2501\u2501\u2501\u2501\u2501\u2501\u2501\u001b[0m \u001b[32m1.9/1.9 MB\u001b[0m \u001b[31m58.7 MB/s\u001b[0m eta \u001b[36m0:00:00\u001b[0m\n",
            "\u001b[?25hDownloading pyarrow_hotfix-0.6-py3-none-any.whl (7.9 kB)\n",
            "Using cached tomlkit-0.13.2-py3-none-any.whl (37 kB)\n",
            "Using cached jedi-0.19.2-py2.py3-none-any.whl (1.6 MB)\n",
            "Using cached json5-0.12.0-py3-none-any.whl (36 kB)\n",
            "Using cached jupyter_events-0.12.0-py3-none-any.whl (19 kB)\n",
            "Using cached jupyter_server_terminals-0.5.3-py3-none-any.whl (13 kB)\n",
            "Using cached overrides-7.7.0-py3-none-any.whl (17 kB)\n",
            "Using cached python_json_logger-3.3.0-py3-none-any.whl (15 kB)\n",
            "Using cached rfc3986_validator-0.1.1-py2.py3-none-any.whl (4.2 kB)\n",
            "Using cached rfc3339_validator-0.1.4-py2.py3-none-any.whl (3.5 kB)\n",
            "Using cached fqdn-1.5.1-py3-none-any.whl (9.1 kB)\n",
            "Using cached isoduration-20.11.0-py3-none-any.whl (11 kB)\n",
            "Using cached uri_template-1.3.0-py3-none-any.whl (11 kB)\n",
            "Using cached arrow-1.3.0-py3-none-any.whl (66 kB)\n",
            "Using cached types_python_dateutil-2.9.0.20241206-py3-none-any.whl (14 kB)\n",
            "Building wheels for collected packages: keplergl\n",
            "  Building wheel for keplergl (pyproject.toml) ... \u001b[?25l\u001b[?25hdone\n",
            "  Created wheel for keplergl: filename=keplergl-0.3.7-py2.py3-none-any.whl size=35080504 sha256=91803f2a5b07ea3aec5942f4c37b850f96c40c4eac05cc1611722afa375cc57b\n",
            "  Stored in directory: /root/.cache/pip/wheels/c4/15/4b/f54140da2477a3d3d74bab2fccfc495849a1b3f2ca391f7c18\n",
            "Successfully built keplergl\n",
            "Installing collected packages: widgetsnbextension, uri-template, types-python-dateutil, tomlkit, rfc3986-validator, rfc3339-validator, python-json-logger, pyarrow-hotfix, overrides, json5, jedi, geoarrow-c, fqdn, deprecation, comm, async-lru, jupyter-server-terminals, jupyter_packaging, jupyter-client, geoarrow-pyarrow, arrow, isoduration, ipywidgets, geoarrow-pandas, jupyter-events, jupyter-server, jupyterlab-server, jupyter-lsp, jupyterlab, jupyter, keplergl\n",
            "  Attempting uninstall: widgetsnbextension\n",
            "    Found existing installation: widgetsnbextension 3.6.10\n",
            "    Uninstalling widgetsnbextension-3.6.10:\n",
            "      Successfully uninstalled widgetsnbextension-3.6.10\n",
            "  Attempting uninstall: jupyter-client\n",
            "    Found existing installation: jupyter-client 6.1.12\n",
            "    Uninstalling jupyter-client-6.1.12:\n",
            "      Successfully uninstalled jupyter-client-6.1.12\n",
            "  Attempting uninstall: ipywidgets\n",
            "    Found existing installation: ipywidgets 7.7.1\n",
            "    Uninstalling ipywidgets-7.7.1:\n",
            "      Successfully uninstalled ipywidgets-7.7.1\n",
            "  Attempting uninstall: jupyter-server\n",
            "    Found existing installation: jupyter-server 1.16.0\n",
            "    Uninstalling jupyter-server-1.16.0:\n",
            "      Successfully uninstalled jupyter-server-1.16.0\n",
            "Successfully installed arrow-1.3.0 async-lru-2.0.5 comm-0.2.2 deprecation-2.1.0 fqdn-1.5.1 geoarrow-c-0.1.2 geoarrow-pandas-0.1.1 geoarrow-pyarrow-0.1.2 ipywidgets-8.1.5 isoduration-20.11.0 jedi-0.19.2 json5-0.12.0 jupyter-1.1.1 jupyter-client-7.4.9 jupyter-events-0.12.0 jupyter-lsp-2.2.5 jupyter-server-2.15.0 jupyter-server-terminals-0.5.3 jupyter_packaging-0.12.3 jupyterlab-4.4.0 jupyterlab-server-2.27.3 keplergl-0.3.7 overrides-7.7.0 pyarrow-hotfix-0.6 python-json-logger-3.3.0 rfc3339-validator-0.1.4 rfc3986-validator-0.1.1 tomlkit-0.13.2 types-python-dateutil-2.9.0.20241206 uri-template-1.3.0 widgetsnbextension-4.0.13\n"
          ]
        }
      ],
      "source": [
        "!pip install keplergl"
      ]
    },
    {
      "cell_type": "code",
      "source": [
        "import pandas as pd\n",
        "import requests\n",
        "from keplergl import KeplerGl"
      ],
      "metadata": {
        "id": "FVEE4qAzfJcc"
      },
      "execution_count": null,
      "outputs": []
    },
    {
      "cell_type": "code",
      "source": [
        "from IPython.display import display"
      ],
      "metadata": {
        "id": "ZJWR1bPalJD0"
      },
      "execution_count": null,
      "outputs": []
    },
    {
      "cell_type": "code",
      "source": [
        "url = \"https://www.inegi.org.mx/app/api/denue/v1/consulta/BuscarEntidad/todos/02/1/100000000/09d4bcf7-28c2-4abc-9262-d3d0b4f6681b\"\n",
        "respuesta = requests.get(url).json()"
      ],
      "metadata": {
        "id": "D7YhInxDfrfE"
      },
      "execution_count": null,
      "outputs": []
    },
    {
      "cell_type": "code",
      "source": [
        "from keplergl import KeplerGl\n",
        "from google.colab import output\n",
        "import pandas as pd\n",
        "\n",
        "output.enable_custom_widget_manager()\n",
        "df = pd.DataFrame(respuesta)\n",
        "df.columns = df.columns.str.lower()\n",
        "\n",
        "# Refugios comunitarios\n",
        "privado_refugio = df.query('clase_actividad == \"Refugios temporales comunitarios del sector privado\"')\n",
        "publico_refugio = df.query('clase_actividad == \"Refugios temporales comunitarios del sector p\u00fablico\"')\n",
        "\n",
        "# Servicios de alimentaci\u00f3n\n",
        "privado_alimento = df.query('clase_actividad == \"Servicios de alimentaci\u00f3n comunitarios prestados por el sector privado\"')\n",
        "publico_alimento = df.query('clase_actividad == \"Servicios de alimentaci\u00f3n comunitarios prestados por el sector p\u00fablico\"')\n",
        "\n",
        "# Servicios de emergencia\n",
        "privado_emergencia = df.query('clase_actividad == \"Servicios de emergencia comunitarios prestados por el sector privado\"')\n",
        "publico_emergencia = df.query('clase_actividad == \"Servicios de emergencia comunitarios prestados por el sector p\u00fablico\"')\n",
        "\n",
        "# Refugios comunitarios -TOMA DE VARIABLES-\n",
        "privado_refugio = privado_refugio[[\"longitud\", \"latitud\", \"nombre\", \"clase_actividad\"]]\n",
        "privado_refugio[\"longitud\"] = pd.to_numeric(privado_refugio[\"longitud\"])\n",
        "privado_refugio[\"latitud\"] = pd.to_numeric(privado_refugio[\"latitud\"])\n",
        "privado_refugio = privado_refugio.rename(columns={\"latitud\": \"latitude\", \"longitud\": \"longitude\"})\n",
        "\n",
        "publico_refugio = publico_refugio[[\"longitud\", \"latitud\", \"nombre\", \"clase_actividad\"]]\n",
        "publico_refugio[\"longitud\"] = pd.to_numeric(publico_refugio[\"longitud\"])\n",
        "publico_refugio[\"latitud\"] = pd.to_numeric(publico_refugio[\"latitud\"])\n",
        "publico_refugio = publico_refugio.rename(columns={\"latitud\": \"latitude\", \"longitud\": \"longitude\"})\n",
        "\n",
        "# Servicios de alimentaci\u00f3n -TOMA DE VARIABLES-\n",
        "privado_alimento = privado_alimento[[\"longitud\", \"latitud\", \"nombre\", \"clase_actividad\"]]\n",
        "privado_alimento[\"longitud\"] = pd.to_numeric(privado_alimento[\"longitud\"])\n",
        "privado_alimento[\"latitud\"] = pd.to_numeric(privado_alimento[\"latitud\"])\n",
        "privado_alimento = privado_alimento.rename(columns={\"latitud\": \"latitude\", \"longitud\": \"longitude\"})\n",
        "\n",
        "publico_alimento = publico_alimento[[\"longitud\", \"latitud\", \"nombre\", \"clase_actividad\"]]\n",
        "publico_alimento[\"longitud\"] = pd.to_numeric(publico_alimento[\"longitud\"])\n",
        "publico_alimento[\"latitud\"] = pd.to_numeric(publico_alimento[\"latitud\"])\n",
        "publico_alimento = publico_alimento.rename(columns={\"latitud\": \"latitude\", \"longitud\": \"longitude\"})\n",
        "\n",
        "# Servicios de emergencia -TOMA DE VARIABLES-\n",
        "privado_emergencia = privado_emergencia[[\"longitud\", \"latitud\", \"nombre\", \"clase_actividad\"]]\n",
        "privado_emergencia[\"longitud\"] = pd.to_numeric(privado_emergencia[\"longitud\"])\n",
        "privado_emergencia[\"latitud\"] = pd.to_numeric(privado_emergencia[\"latitud\"])\n",
        "privado_emergencia = privado_emergencia.rename(columns={\"latitud\": \"latitude\", \"longitud\": \"longitude\"})\n",
        "\n",
        "publico_emergencia = publico_emergencia[[\"longitud\", \"latitud\", \"nombre\", \"clase_actividad\"]]\n",
        "publico_emergencia[\"longitud\"] = pd.to_numeric(publico_emergencia[\"longitud\"])\n",
        "publico_emergencia[\"latitud\"] = pd.to_numeric(publico_emergencia[\"latitud\"])\n",
        "publico_emergencia = publico_emergencia.rename(columns={\"latitud\": \"latitude\", \"longitud\": \"longitude\"})"
      ],
      "metadata": {
        "id": "rG9HcIctgJ2Z"
      },
      "execution_count": null,
      "outputs": []
    },
    {
      "cell_type": "code",
      "source": [
        "map = KeplerGl(\n",
        "    height=800,\n",
        "    data={\n",
        "        \"Refugios privados\": privado_refugio,\n",
        "        \"Refugios p\u00fablicos\": publico_refugio,\n",
        "        \"Alimentos privados\": privado_alimento,\n",
        "        \"Alimentos p\u00fablicos\": publico_alimento,\n",
        "        \"Emergencia privados\": privado_emergencia,\n",
        "        \"Emergencia p\u00fablica\": publico_emergencia\n",
        "    },\n",
        "    show_docs=False\n",
        ")\n",
        "\n",
        "display(map)"
      ],
      "metadata": {
        "colab": {
          "base_uri": "https://localhost:8080/",
          "height": 804,
          "referenced_widgets": [
            "32207a1cde014e13a7e0eb0820991261",
            "073c184dfd1f4ca786ecb7d0d7f0ee09"
          ]
        },
        "id": "chIQyoVhj6_5",
        "outputId": "73e55ae2-2ce6-4d5b-acca-f80aba200e0f"
      },
      "execution_count": null,
      "outputs": [
        {
          "output_type": "display_data",
          "data": {
            "text/plain": [
              "KeplerGl(data={'Refugios privados':          longitude   latitude  \\\n",
              "11071  -117.039447  32.539217   \n",
              "11072  -\u2026"
            ],
            "application/vnd.jupyter.widget-view+json": {
              "version_major": 2,
              "version_minor": 0,
              "model_id": "32207a1cde014e13a7e0eb0820991261"
            }
          },
          "metadata": {
            "application/vnd.jupyter.widget-view+json": {
              "colab": {
                "custom_widget_manager": {
                  "url": "https://ssl.gstatic.com/colaboratory-static/widgets/colab-cdn-widget-manager/2b70e893a8ba7c0f/manager.min.js"
                }
              }
            }
          }
        }
      ]
    },
    {
      "cell_type": "code",
      "source": [
        "config=map.config\n",
        "\n",
        "map=KeplerGl(height=1000, width=1000, data={\"Refugios privados\": privado_refugio, \"Refugios p\u00fablicos\": publico_refugio, \"Alimentos privados\": privado_alimento,\n",
        "                                  \"Alimentos publicos\": publico_alimento, \"Emergencia privados\": privado_emergencia, \"Emergencia p\u00fablica\": publico_emergencia} ,show_docs=False, config=config)\n",
        "map.save_to_html(config=config, file_name='Mapa Tijuana.html')"
      ],
      "metadata": {
        "colab": {
          "base_uri": "https://localhost:8080/",
          "height": 35
        },
        "id": "IAePfjj6wc9x",
        "outputId": "995a6537-f032-43aa-eb5b-e67de70532e0"
      },
      "execution_count": null,
      "outputs": [
        {
          "output_type": "stream",
          "name": "stdout",
          "text": [
            "Map saved to Mapa Tijuana.html!\n"
          ]
        }
      ]
    }
  ]
}